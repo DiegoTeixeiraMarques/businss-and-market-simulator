{
  "nbformat": 4,
  "nbformat_minor": 0,
  "metadata": {
    "colab": {
      "provenance": [],
      "authorship_tag": "ABX9TyOhMLx5Jt8gFcolS9hg0QRd",
      "include_colab_link": true
    },
    "kernelspec": {
      "name": "python3",
      "display_name": "Python 3"
    },
    "language_info": {
      "name": "python"
    }
  },
  "cells": [
    {
      "cell_type": "markdown",
      "metadata": {
        "id": "view-in-github",
        "colab_type": "text"
      },
      "source": [
        "<a href=\"https://colab.research.google.com/github/DiegoTeixeiraMarques/businss-and-market-simulator/blob/main/simulador_de_mercado.ipynb\" target=\"_parent\"><img src=\"https://colab.research.google.com/assets/colab-badge.svg\" alt=\"Open In Colab\"/></a>"
      ]
    },
    {
      "cell_type": "markdown",
      "source": [
        "## Simuldor de Mercado"
      ],
      "metadata": {
        "id": "G1otFglrUlLm"
      }
    },
    {
      "cell_type": "markdown",
      "source": [
        "#### Entidade Pessoas"
      ],
      "metadata": {
        "id": "ETp9g056Uq0w"
      }
    },
    {
      "cell_type": "code",
      "execution_count": null,
      "metadata": {
        "id": "967eQR3iUjgJ"
      },
      "outputs": [],
      "source": [
        "pessoa_perfil1 = 'Anonimo, 24 anos, Nível Superior, Masculino'\n",
        "pessoasperfil2 = 'Anonimo, 18 anos, Cursando Superior, Masculino'\n",
        "pessoa_perfil3 = 'Anonimo, 24 anos, Nível Superior, Feminino'\n",
        "pessoasperfil4 = 'Anonimo, 18 anos, Cursando Superior, Feminino'"
      ]
    },
    {
      "cell_type": "markdown",
      "source": [],
      "metadata": {
        "id": "xtjDYDYXUkjf"
      }
    }
  ]
}