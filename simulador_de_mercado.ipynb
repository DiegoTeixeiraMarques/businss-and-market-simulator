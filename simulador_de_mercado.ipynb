{
  "nbformat": 4,
  "nbformat_minor": 0,
  "metadata": {
    "colab": {
      "provenance": [],
      "toc_visible": true,
      "include_colab_link": true
    },
    "kernelspec": {
      "name": "python3",
      "display_name": "Python 3"
    },
    "language_info": {
      "name": "python"
    }
  },
  "cells": [
    {
      "cell_type": "markdown",
      "metadata": {
        "id": "view-in-github",
        "colab_type": "text"
      },
      "source": [
        "<a href=\"https://colab.research.google.com/github/DiegoTeixeiraMarques/businss-and-market-simulator/blob/main/simulador_de_mercado.ipynb\" target=\"_parent\"><img src=\"https://colab.research.google.com/assets/colab-badge.svg\" alt=\"Open In Colab\"/></a>"
      ]
    },
    {
      "cell_type": "markdown",
      "source": [
        "## Simuldor de Mercado"
      ],
      "metadata": {
        "id": "G1otFglrUlLm"
      }
    },
    {
      "cell_type": "markdown",
      "source": [
        "#### Entidade Pessoas"
      ],
      "metadata": {
        "id": "ETp9g056Uq0w"
      }
    },
    {
      "cell_type": "markdown",
      "source": [
        "O mercado contará com 10mil pessoas divididas em 3 perfis de consumidores: preza pelo preço, preza pela qualidade e preza pelo custo/beneficio. Cada pessoa terá suas características demográficas que poderão ser explorados de forma estratégica pelas empresas no ambiente simulado.\n",
        "\n",
        "Atributos:\n",
        "\n",
        "Nome\n",
        "- Idade: Influencia Renda Desejada, HardSkill, SoftSkill\n",
        "- Gênero: M, F, X\n",
        "- Score SoftSkill: Influencia Renda Desejada\n",
        "- Score HardSkill: Influencia Renda Desejada\n",
        "- Score Satisfacao Trabalho\n",
        "- Score Compra:\n",
        "- Score Poupar\n",
        "- Score Social\n",
        "- Renda Atual\n",
        "- Renda Desejada\n",
        "- Patrimônio\n"
      ],
      "metadata": {
        "id": "yLzQMtRfWbGR"
      }
    },
    {
      "cell_type": "markdown",
      "source": [
        "#### Entidade Empresas"
      ],
      "metadata": {
        "id": "svdozPqeXVYs"
      }
    },
    {
      "cell_type": "code",
      "source": [
        "pessoa_modelo = {\n",
        "    'idade': None,\n",
        "    'genero': None,\n",
        "    'score_softskill': None,\n",
        "    'score_hardskill': None,\n",
        "    'score_satisfacao_trabalho': None,\n",
        "    'score_compra': None,\n",
        "    'score_poupar': None,\n",
        "    'score_social': None,\n",
        "    'renda_atual': None,\n",
        "    'renda_desejada': None,\n",
        "    'patrimonio': None\n",
        "}\n",
        "\n",
        "pessoas = list()\n",
        "\n",
        "print(pessoa_modelo)"
      ],
      "metadata": {
        "id": "LiUZefXxiiQp",
        "outputId": "e6efd0ac-df5d-468f-c11e-693d6689f284",
        "colab": {
          "base_uri": "https://localhost:8080/"
        }
      },
      "execution_count": 25,
      "outputs": [
        {
          "output_type": "stream",
          "name": "stdout",
          "text": [
            "{'idade': None, 'genero': None, 'score_softskill': None, 'score_hardskill': None, 'score_satisfacao_trabalho': None, 'score_compra': None, 'score_poupar': None, 'score_social': None, 'renda_atual': None, 'renda_desejada': None, 'patrimonio': None}\n"
          ]
        }
      ]
    },
    {
      "cell_type": "markdown",
      "source": [
        "###### Gera Pessoas"
      ],
      "metadata": {
        "id": "TRVDhpc5ij4k"
      }
    },
    {
      "cell_type": "code",
      "source": [
        "import random\n",
        "def numero_aleatorio_entre_zero_um():\n",
        "  return round(random.uniform(0, 1), 2)"
      ],
      "metadata": {
        "id": "zIWQEIWpXXE4"
      },
      "execution_count": 17,
      "outputs": []
    },
    {
      "cell_type": "markdown",
      "source": [
        "#### Entidade Governo"
      ],
      "metadata": {
        "id": "A75ArJJIXaue"
      }
    },
    {
      "cell_type": "code",
      "source": [
        "for i in range(5):\n",
        "  pessoa_modelo['idade'] = numero_aleatorio_entre_zero_um()\n",
        "  pessoa_modelo['genero'] = numero_aleatorio_entre_zero_um()\n",
        "  pessoa_modelo['score_softskill'] = numero_aleatorio_entre_zero_um()\n",
        "  pessoa_modelo['score_hardskill'] = numero_aleatorio_entre_zero_um()\n",
        "  pessoa_modelo['score_satisfacao_trabalho'] = numero_aleatorio_entre_zero_um()\n",
        "  pessoa_modelo['score_compra'] = numero_aleatorio_entre_zero_um()\n",
        "  pessoa_modelo['score_poupar'] = numero_aleatorio_entre_zero_um()\n",
        "  pessoa_modelo['score_social'] = numero_aleatorio_entre_zero_um()\n",
        "  pessoa_modelo['renda_atual'] = numero_aleatorio_entre_zero_um()\n",
        "  pessoa_modelo['renda_desejada'] = numero_aleatorio_entre_zero_um()\n",
        "  pessoa_modelo['patrimonio'] = numero_aleatorio_entre_zero_um()\n",
        "  pessoas.append(pessoa_modelo)\n",
        "\n",
        "  print(pessoa_modelo)\n",
        "  print(pessoas)"
      ],
      "metadata": {
        "id": "5J7KX9EdXcYM",
        "outputId": "036721e0-ed61-487d-e282-9e82541173ef",
        "colab": {
          "base_uri": "https://localhost:8080/"
        }
      },
      "execution_count": 28,
      "outputs": [
        {
          "output_type": "stream",
          "name": "stdout",
          "text": [
            "{'idade': 0.42, 'genero': 0.83, 'score_softskill': 0.81, 'score_hardskill': 0.77, 'score_satisfacao_trabalho': 0.4, 'score_compra': 0.44, 'score_poupar': 0.53, 'score_social': 0.65, 'renda_atual': 0.52, 'renda_desejada': 0.59, 'patrimonio': 0.29}\n",
            "[{'idade': 0.42, 'genero': 0.83, 'score_softskill': 0.81, 'score_hardskill': 0.77, 'score_satisfacao_trabalho': 0.4, 'score_compra': 0.44, 'score_poupar': 0.53, 'score_social': 0.65, 'renda_atual': 0.52, 'renda_desejada': 0.59, 'patrimonio': 0.29}, {'idade': 0.42, 'genero': 0.83, 'score_softskill': 0.81, 'score_hardskill': 0.77, 'score_satisfacao_trabalho': 0.4, 'score_compra': 0.44, 'score_poupar': 0.53, 'score_social': 0.65, 'renda_atual': 0.52, 'renda_desejada': 0.59, 'patrimonio': 0.29}, {'idade': 0.42, 'genero': 0.83, 'score_softskill': 0.81, 'score_hardskill': 0.77, 'score_satisfacao_trabalho': 0.4, 'score_compra': 0.44, 'score_poupar': 0.53, 'score_social': 0.65, 'renda_atual': 0.52, 'renda_desejada': 0.59, 'patrimonio': 0.29}, {'idade': 0.42, 'genero': 0.83, 'score_softskill': 0.81, 'score_hardskill': 0.77, 'score_satisfacao_trabalho': 0.4, 'score_compra': 0.44, 'score_poupar': 0.53, 'score_social': 0.65, 'renda_atual': 0.52, 'renda_desejada': 0.59, 'patrimonio': 0.29}, {'idade': 0.42, 'genero': 0.83, 'score_softskill': 0.81, 'score_hardskill': 0.77, 'score_satisfacao_trabalho': 0.4, 'score_compra': 0.44, 'score_poupar': 0.53, 'score_social': 0.65, 'renda_atual': 0.52, 'renda_desejada': 0.59, 'patrimonio': 0.29}, {'idade': 0.42, 'genero': 0.83, 'score_softskill': 0.81, 'score_hardskill': 0.77, 'score_satisfacao_trabalho': 0.4, 'score_compra': 0.44, 'score_poupar': 0.53, 'score_social': 0.65, 'renda_atual': 0.52, 'renda_desejada': 0.59, 'patrimonio': 0.29}]\n",
            "{'idade': 0.62, 'genero': 0.79, 'score_softskill': 0.64, 'score_hardskill': 0.68, 'score_satisfacao_trabalho': 0.09, 'score_compra': 0.45, 'score_poupar': 0.51, 'score_social': 0.78, 'renda_atual': 0.21, 'renda_desejada': 0.81, 'patrimonio': 0.6}\n",
            "[{'idade': 0.62, 'genero': 0.79, 'score_softskill': 0.64, 'score_hardskill': 0.68, 'score_satisfacao_trabalho': 0.09, 'score_compra': 0.45, 'score_poupar': 0.51, 'score_social': 0.78, 'renda_atual': 0.21, 'renda_desejada': 0.81, 'patrimonio': 0.6}, {'idade': 0.62, 'genero': 0.79, 'score_softskill': 0.64, 'score_hardskill': 0.68, 'score_satisfacao_trabalho': 0.09, 'score_compra': 0.45, 'score_poupar': 0.51, 'score_social': 0.78, 'renda_atual': 0.21, 'renda_desejada': 0.81, 'patrimonio': 0.6}, {'idade': 0.62, 'genero': 0.79, 'score_softskill': 0.64, 'score_hardskill': 0.68, 'score_satisfacao_trabalho': 0.09, 'score_compra': 0.45, 'score_poupar': 0.51, 'score_social': 0.78, 'renda_atual': 0.21, 'renda_desejada': 0.81, 'patrimonio': 0.6}, {'idade': 0.62, 'genero': 0.79, 'score_softskill': 0.64, 'score_hardskill': 0.68, 'score_satisfacao_trabalho': 0.09, 'score_compra': 0.45, 'score_poupar': 0.51, 'score_social': 0.78, 'renda_atual': 0.21, 'renda_desejada': 0.81, 'patrimonio': 0.6}, {'idade': 0.62, 'genero': 0.79, 'score_softskill': 0.64, 'score_hardskill': 0.68, 'score_satisfacao_trabalho': 0.09, 'score_compra': 0.45, 'score_poupar': 0.51, 'score_social': 0.78, 'renda_atual': 0.21, 'renda_desejada': 0.81, 'patrimonio': 0.6}, {'idade': 0.62, 'genero': 0.79, 'score_softskill': 0.64, 'score_hardskill': 0.68, 'score_satisfacao_trabalho': 0.09, 'score_compra': 0.45, 'score_poupar': 0.51, 'score_social': 0.78, 'renda_atual': 0.21, 'renda_desejada': 0.81, 'patrimonio': 0.6}, {'idade': 0.62, 'genero': 0.79, 'score_softskill': 0.64, 'score_hardskill': 0.68, 'score_satisfacao_trabalho': 0.09, 'score_compra': 0.45, 'score_poupar': 0.51, 'score_social': 0.78, 'renda_atual': 0.21, 'renda_desejada': 0.81, 'patrimonio': 0.6}]\n",
            "{'idade': 0.14, 'genero': 0.38, 'score_softskill': 0.01, 'score_hardskill': 0.69, 'score_satisfacao_trabalho': 0.01, 'score_compra': 0.11, 'score_poupar': 0.9, 'score_social': 0.05, 'renda_atual': 0.76, 'renda_desejada': 0.77, 'patrimonio': 0.8}\n",
            "[{'idade': 0.14, 'genero': 0.38, 'score_softskill': 0.01, 'score_hardskill': 0.69, 'score_satisfacao_trabalho': 0.01, 'score_compra': 0.11, 'score_poupar': 0.9, 'score_social': 0.05, 'renda_atual': 0.76, 'renda_desejada': 0.77, 'patrimonio': 0.8}, {'idade': 0.14, 'genero': 0.38, 'score_softskill': 0.01, 'score_hardskill': 0.69, 'score_satisfacao_trabalho': 0.01, 'score_compra': 0.11, 'score_poupar': 0.9, 'score_social': 0.05, 'renda_atual': 0.76, 'renda_desejada': 0.77, 'patrimonio': 0.8}, {'idade': 0.14, 'genero': 0.38, 'score_softskill': 0.01, 'score_hardskill': 0.69, 'score_satisfacao_trabalho': 0.01, 'score_compra': 0.11, 'score_poupar': 0.9, 'score_social': 0.05, 'renda_atual': 0.76, 'renda_desejada': 0.77, 'patrimonio': 0.8}, {'idade': 0.14, 'genero': 0.38, 'score_softskill': 0.01, 'score_hardskill': 0.69, 'score_satisfacao_trabalho': 0.01, 'score_compra': 0.11, 'score_poupar': 0.9, 'score_social': 0.05, 'renda_atual': 0.76, 'renda_desejada': 0.77, 'patrimonio': 0.8}, {'idade': 0.14, 'genero': 0.38, 'score_softskill': 0.01, 'score_hardskill': 0.69, 'score_satisfacao_trabalho': 0.01, 'score_compra': 0.11, 'score_poupar': 0.9, 'score_social': 0.05, 'renda_atual': 0.76, 'renda_desejada': 0.77, 'patrimonio': 0.8}, {'idade': 0.14, 'genero': 0.38, 'score_softskill': 0.01, 'score_hardskill': 0.69, 'score_satisfacao_trabalho': 0.01, 'score_compra': 0.11, 'score_poupar': 0.9, 'score_social': 0.05, 'renda_atual': 0.76, 'renda_desejada': 0.77, 'patrimonio': 0.8}, {'idade': 0.14, 'genero': 0.38, 'score_softskill': 0.01, 'score_hardskill': 0.69, 'score_satisfacao_trabalho': 0.01, 'score_compra': 0.11, 'score_poupar': 0.9, 'score_social': 0.05, 'renda_atual': 0.76, 'renda_desejada': 0.77, 'patrimonio': 0.8}, {'idade': 0.14, 'genero': 0.38, 'score_softskill': 0.01, 'score_hardskill': 0.69, 'score_satisfacao_trabalho': 0.01, 'score_compra': 0.11, 'score_poupar': 0.9, 'score_social': 0.05, 'renda_atual': 0.76, 'renda_desejada': 0.77, 'patrimonio': 0.8}]\n",
            "{'idade': 0.7, 'genero': 0.88, 'score_softskill': 0.75, 'score_hardskill': 0.59, 'score_satisfacao_trabalho': 0.5, 'score_compra': 0.25, 'score_poupar': 0.85, 'score_social': 0.63, 'renda_atual': 0.46, 'renda_desejada': 0.72, 'patrimonio': 0.78}\n",
            "[{'idade': 0.7, 'genero': 0.88, 'score_softskill': 0.75, 'score_hardskill': 0.59, 'score_satisfacao_trabalho': 0.5, 'score_compra': 0.25, 'score_poupar': 0.85, 'score_social': 0.63, 'renda_atual': 0.46, 'renda_desejada': 0.72, 'patrimonio': 0.78}, {'idade': 0.7, 'genero': 0.88, 'score_softskill': 0.75, 'score_hardskill': 0.59, 'score_satisfacao_trabalho': 0.5, 'score_compra': 0.25, 'score_poupar': 0.85, 'score_social': 0.63, 'renda_atual': 0.46, 'renda_desejada': 0.72, 'patrimonio': 0.78}, {'idade': 0.7, 'genero': 0.88, 'score_softskill': 0.75, 'score_hardskill': 0.59, 'score_satisfacao_trabalho': 0.5, 'score_compra': 0.25, 'score_poupar': 0.85, 'score_social': 0.63, 'renda_atual': 0.46, 'renda_desejada': 0.72, 'patrimonio': 0.78}, {'idade': 0.7, 'genero': 0.88, 'score_softskill': 0.75, 'score_hardskill': 0.59, 'score_satisfacao_trabalho': 0.5, 'score_compra': 0.25, 'score_poupar': 0.85, 'score_social': 0.63, 'renda_atual': 0.46, 'renda_desejada': 0.72, 'patrimonio': 0.78}, {'idade': 0.7, 'genero': 0.88, 'score_softskill': 0.75, 'score_hardskill': 0.59, 'score_satisfacao_trabalho': 0.5, 'score_compra': 0.25, 'score_poupar': 0.85, 'score_social': 0.63, 'renda_atual': 0.46, 'renda_desejada': 0.72, 'patrimonio': 0.78}, {'idade': 0.7, 'genero': 0.88, 'score_softskill': 0.75, 'score_hardskill': 0.59, 'score_satisfacao_trabalho': 0.5, 'score_compra': 0.25, 'score_poupar': 0.85, 'score_social': 0.63, 'renda_atual': 0.46, 'renda_desejada': 0.72, 'patrimonio': 0.78}, {'idade': 0.7, 'genero': 0.88, 'score_softskill': 0.75, 'score_hardskill': 0.59, 'score_satisfacao_trabalho': 0.5, 'score_compra': 0.25, 'score_poupar': 0.85, 'score_social': 0.63, 'renda_atual': 0.46, 'renda_desejada': 0.72, 'patrimonio': 0.78}, {'idade': 0.7, 'genero': 0.88, 'score_softskill': 0.75, 'score_hardskill': 0.59, 'score_satisfacao_trabalho': 0.5, 'score_compra': 0.25, 'score_poupar': 0.85, 'score_social': 0.63, 'renda_atual': 0.46, 'renda_desejada': 0.72, 'patrimonio': 0.78}, {'idade': 0.7, 'genero': 0.88, 'score_softskill': 0.75, 'score_hardskill': 0.59, 'score_satisfacao_trabalho': 0.5, 'score_compra': 0.25, 'score_poupar': 0.85, 'score_social': 0.63, 'renda_atual': 0.46, 'renda_desejada': 0.72, 'patrimonio': 0.78}]\n",
            "{'idade': 0.68, 'genero': 0.28, 'score_softskill': 0.14, 'score_hardskill': 0.24, 'score_satisfacao_trabalho': 0.83, 'score_compra': 0.79, 'score_poupar': 0.79, 'score_social': 0.4, 'renda_atual': 0.63, 'renda_desejada': 0.59, 'patrimonio': 0.74}\n",
            "[{'idade': 0.68, 'genero': 0.28, 'score_softskill': 0.14, 'score_hardskill': 0.24, 'score_satisfacao_trabalho': 0.83, 'score_compra': 0.79, 'score_poupar': 0.79, 'score_social': 0.4, 'renda_atual': 0.63, 'renda_desejada': 0.59, 'patrimonio': 0.74}, {'idade': 0.68, 'genero': 0.28, 'score_softskill': 0.14, 'score_hardskill': 0.24, 'score_satisfacao_trabalho': 0.83, 'score_compra': 0.79, 'score_poupar': 0.79, 'score_social': 0.4, 'renda_atual': 0.63, 'renda_desejada': 0.59, 'patrimonio': 0.74}, {'idade': 0.68, 'genero': 0.28, 'score_softskill': 0.14, 'score_hardskill': 0.24, 'score_satisfacao_trabalho': 0.83, 'score_compra': 0.79, 'score_poupar': 0.79, 'score_social': 0.4, 'renda_atual': 0.63, 'renda_desejada': 0.59, 'patrimonio': 0.74}, {'idade': 0.68, 'genero': 0.28, 'score_softskill': 0.14, 'score_hardskill': 0.24, 'score_satisfacao_trabalho': 0.83, 'score_compra': 0.79, 'score_poupar': 0.79, 'score_social': 0.4, 'renda_atual': 0.63, 'renda_desejada': 0.59, 'patrimonio': 0.74}, {'idade': 0.68, 'genero': 0.28, 'score_softskill': 0.14, 'score_hardskill': 0.24, 'score_satisfacao_trabalho': 0.83, 'score_compra': 0.79, 'score_poupar': 0.79, 'score_social': 0.4, 'renda_atual': 0.63, 'renda_desejada': 0.59, 'patrimonio': 0.74}, {'idade': 0.68, 'genero': 0.28, 'score_softskill': 0.14, 'score_hardskill': 0.24, 'score_satisfacao_trabalho': 0.83, 'score_compra': 0.79, 'score_poupar': 0.79, 'score_social': 0.4, 'renda_atual': 0.63, 'renda_desejada': 0.59, 'patrimonio': 0.74}, {'idade': 0.68, 'genero': 0.28, 'score_softskill': 0.14, 'score_hardskill': 0.24, 'score_satisfacao_trabalho': 0.83, 'score_compra': 0.79, 'score_poupar': 0.79, 'score_social': 0.4, 'renda_atual': 0.63, 'renda_desejada': 0.59, 'patrimonio': 0.74}, {'idade': 0.68, 'genero': 0.28, 'score_softskill': 0.14, 'score_hardskill': 0.24, 'score_satisfacao_trabalho': 0.83, 'score_compra': 0.79, 'score_poupar': 0.79, 'score_social': 0.4, 'renda_atual': 0.63, 'renda_desejada': 0.59, 'patrimonio': 0.74}, {'idade': 0.68, 'genero': 0.28, 'score_softskill': 0.14, 'score_hardskill': 0.24, 'score_satisfacao_trabalho': 0.83, 'score_compra': 0.79, 'score_poupar': 0.79, 'score_social': 0.4, 'renda_atual': 0.63, 'renda_desejada': 0.59, 'patrimonio': 0.74}, {'idade': 0.68, 'genero': 0.28, 'score_softskill': 0.14, 'score_hardskill': 0.24, 'score_satisfacao_trabalho': 0.83, 'score_compra': 0.79, 'score_poupar': 0.79, 'score_social': 0.4, 'renda_atual': 0.63, 'renda_desejada': 0.59, 'patrimonio': 0.74}]\n"
          ]
        }
      ]
    },
    {
      "cell_type": "code",
      "source": [
        "pessoas"
      ],
      "metadata": {
        "id": "439eedFGisu-",
        "outputId": "afdb1196-6946-423b-8544-87791736a13c",
        "colab": {
          "base_uri": "https://localhost:8080/"
        }
      },
      "execution_count": 29,
      "outputs": [
        {
          "output_type": "execute_result",
          "data": {
            "text/plain": [
              "[{'idade': 0.68,\n",
              "  'genero': 0.28,\n",
              "  'score_softskill': 0.14,\n",
              "  'score_hardskill': 0.24,\n",
              "  'score_satisfacao_trabalho': 0.83,\n",
              "  'score_compra': 0.79,\n",
              "  'score_poupar': 0.79,\n",
              "  'score_social': 0.4,\n",
              "  'renda_atual': 0.63,\n",
              "  'renda_desejada': 0.59,\n",
              "  'patrimonio': 0.74},\n",
              " {'idade': 0.68,\n",
              "  'genero': 0.28,\n",
              "  'score_softskill': 0.14,\n",
              "  'score_hardskill': 0.24,\n",
              "  'score_satisfacao_trabalho': 0.83,\n",
              "  'score_compra': 0.79,\n",
              "  'score_poupar': 0.79,\n",
              "  'score_social': 0.4,\n",
              "  'renda_atual': 0.63,\n",
              "  'renda_desejada': 0.59,\n",
              "  'patrimonio': 0.74},\n",
              " {'idade': 0.68,\n",
              "  'genero': 0.28,\n",
              "  'score_softskill': 0.14,\n",
              "  'score_hardskill': 0.24,\n",
              "  'score_satisfacao_trabalho': 0.83,\n",
              "  'score_compra': 0.79,\n",
              "  'score_poupar': 0.79,\n",
              "  'score_social': 0.4,\n",
              "  'renda_atual': 0.63,\n",
              "  'renda_desejada': 0.59,\n",
              "  'patrimonio': 0.74},\n",
              " {'idade': 0.68,\n",
              "  'genero': 0.28,\n",
              "  'score_softskill': 0.14,\n",
              "  'score_hardskill': 0.24,\n",
              "  'score_satisfacao_trabalho': 0.83,\n",
              "  'score_compra': 0.79,\n",
              "  'score_poupar': 0.79,\n",
              "  'score_social': 0.4,\n",
              "  'renda_atual': 0.63,\n",
              "  'renda_desejada': 0.59,\n",
              "  'patrimonio': 0.74},\n",
              " {'idade': 0.68,\n",
              "  'genero': 0.28,\n",
              "  'score_softskill': 0.14,\n",
              "  'score_hardskill': 0.24,\n",
              "  'score_satisfacao_trabalho': 0.83,\n",
              "  'score_compra': 0.79,\n",
              "  'score_poupar': 0.79,\n",
              "  'score_social': 0.4,\n",
              "  'renda_atual': 0.63,\n",
              "  'renda_desejada': 0.59,\n",
              "  'patrimonio': 0.74},\n",
              " {'idade': 0.68,\n",
              "  'genero': 0.28,\n",
              "  'score_softskill': 0.14,\n",
              "  'score_hardskill': 0.24,\n",
              "  'score_satisfacao_trabalho': 0.83,\n",
              "  'score_compra': 0.79,\n",
              "  'score_poupar': 0.79,\n",
              "  'score_social': 0.4,\n",
              "  'renda_atual': 0.63,\n",
              "  'renda_desejada': 0.59,\n",
              "  'patrimonio': 0.74},\n",
              " {'idade': 0.68,\n",
              "  'genero': 0.28,\n",
              "  'score_softskill': 0.14,\n",
              "  'score_hardskill': 0.24,\n",
              "  'score_satisfacao_trabalho': 0.83,\n",
              "  'score_compra': 0.79,\n",
              "  'score_poupar': 0.79,\n",
              "  'score_social': 0.4,\n",
              "  'renda_atual': 0.63,\n",
              "  'renda_desejada': 0.59,\n",
              "  'patrimonio': 0.74},\n",
              " {'idade': 0.68,\n",
              "  'genero': 0.28,\n",
              "  'score_softskill': 0.14,\n",
              "  'score_hardskill': 0.24,\n",
              "  'score_satisfacao_trabalho': 0.83,\n",
              "  'score_compra': 0.79,\n",
              "  'score_poupar': 0.79,\n",
              "  'score_social': 0.4,\n",
              "  'renda_atual': 0.63,\n",
              "  'renda_desejada': 0.59,\n",
              "  'patrimonio': 0.74},\n",
              " {'idade': 0.68,\n",
              "  'genero': 0.28,\n",
              "  'score_softskill': 0.14,\n",
              "  'score_hardskill': 0.24,\n",
              "  'score_satisfacao_trabalho': 0.83,\n",
              "  'score_compra': 0.79,\n",
              "  'score_poupar': 0.79,\n",
              "  'score_social': 0.4,\n",
              "  'renda_atual': 0.63,\n",
              "  'renda_desejada': 0.59,\n",
              "  'patrimonio': 0.74},\n",
              " {'idade': 0.68,\n",
              "  'genero': 0.28,\n",
              "  'score_softskill': 0.14,\n",
              "  'score_hardskill': 0.24,\n",
              "  'score_satisfacao_trabalho': 0.83,\n",
              "  'score_compra': 0.79,\n",
              "  'score_poupar': 0.79,\n",
              "  'score_social': 0.4,\n",
              "  'renda_atual': 0.63,\n",
              "  'renda_desejada': 0.59,\n",
              "  'patrimonio': 0.74}]"
            ]
          },
          "metadata": {},
          "execution_count": 29
        }
      ]
    },
    {
      "cell_type": "markdown",
      "source": [
        "#### Entidade Mídia"
      ],
      "metadata": {
        "id": "3vfFwUzLXdAw"
      }
    },
    {
      "cell_type": "code",
      "source": [],
      "metadata": {
        "id": "KWP7hypYXf_D"
      },
      "execution_count": null,
      "outputs": []
    }
  ]
}