{
  "nbformat": 4,
  "nbformat_minor": 0,
  "metadata": {
    "colab": {
      "provenance": [],
      "toc_visible": true,
      "include_colab_link": true
    },
    "kernelspec": {
      "name": "python3",
      "display_name": "Python 3"
    },
    "language_info": {
      "name": "python"
    }
  },
  "cells": [
    {
      "cell_type": "markdown",
      "metadata": {
        "id": "view-in-github",
        "colab_type": "text"
      },
      "source": [
        "<a href=\"https://colab.research.google.com/github/DiegoTeixeiraMarques/businss-and-market-simulator/blob/main/simulador_de_mercado.ipynb\" target=\"_parent\"><img src=\"https://colab.research.google.com/assets/colab-badge.svg\" alt=\"Open In Colab\"/></a>"
      ]
    },
    {
      "cell_type": "markdown",
      "source": [
        "## Simuldor de Mercado"
      ],
      "metadata": {
        "id": "G1otFglrUlLm"
      }
    },
    {
      "cell_type": "markdown",
      "source": [
        "#### Entidade Pessoas"
      ],
      "metadata": {
        "id": "ETp9g056Uq0w"
      }
    },
    {
      "cell_type": "markdown",
      "source": [
        "O mercado contará com 10mil pessoas divididas em 3 perfis de consumidores: preza pelo preço, preza pela qualidade e preza pelo custo/beneficio. Cada pessoa terá suas características demográficas que poderão ser explorados de forma estratégica pelas empresas no ambiente simulado.\n",
        "\n",
        "Atributos:\n",
        "\n",
        "Nome\n",
        "- Idade\n",
        "- Gênero\n",
        "- Score SoftSkill\n",
        "- Score HardSkill\n",
        "- Score Satisfacao Trabalho\n",
        "- Score Compra\n",
        "- Score Poupar\n",
        "- Score Social\n",
        "- Renda Atual\n",
        "- Renda Desejada\n",
        "- Patrimônio\n"
      ],
      "metadata": {
        "id": "yLzQMtRfWbGR"
      }
    },
    {
      "cell_type": "code",
      "execution_count": null,
      "metadata": {
        "id": "967eQR3iUjgJ"
      },
      "outputs": [],
      "source": [
        "pessoas = dict{}\n"
      ]
    },
    {
      "cell_type": "markdown",
      "source": [],
      "metadata": {
        "id": "xtjDYDYXUkjf"
      }
    },
    {
      "cell_type": "markdown",
      "source": [
        "#### Entidade Empresas"
      ],
      "metadata": {
        "id": "svdozPqeXVYs"
      }
    },
    {
      "cell_type": "code",
      "source": [],
      "metadata": {
        "id": "zIWQEIWpXXE4"
      },
      "execution_count": null,
      "outputs": []
    },
    {
      "cell_type": "markdown",
      "source": [
        "#### Entidade Governo"
      ],
      "metadata": {
        "id": "A75ArJJIXaue"
      }
    },
    {
      "cell_type": "code",
      "source": [],
      "metadata": {
        "id": "5J7KX9EdXcYM"
      },
      "execution_count": null,
      "outputs": []
    },
    {
      "cell_type": "markdown",
      "source": [
        "#### Entidade Mídia"
      ],
      "metadata": {
        "id": "3vfFwUzLXdAw"
      }
    },
    {
      "cell_type": "code",
      "source": [],
      "metadata": {
        "id": "KWP7hypYXf_D"
      },
      "execution_count": null,
      "outputs": []
    }
  ]
}