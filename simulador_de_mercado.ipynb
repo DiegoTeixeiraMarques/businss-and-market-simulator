{
  "nbformat": 4,
  "nbformat_minor": 0,
  "metadata": {
    "colab": {
      "provenance": [],
      "toc_visible": true,
      "include_colab_link": true
    },
    "kernelspec": {
      "name": "python3",
      "display_name": "Python 3"
    },
    "language_info": {
      "name": "python"
    }
  },
  "cells": [
    {
      "cell_type": "markdown",
      "metadata": {
        "id": "view-in-github",
        "colab_type": "text"
      },
      "source": [
        "<a href=\"https://colab.research.google.com/github/DiegoTeixeiraMarques/businss-and-market-simulator/blob/main/simulador_de_mercado.ipynb\" target=\"_parent\"><img src=\"https://colab.research.google.com/assets/colab-badge.svg\" alt=\"Open In Colab\"/></a>"
      ]
    },
    {
      "cell_type": "markdown",
      "source": [
        "## Simuldor de Mercado"
      ],
      "metadata": {
        "id": "G1otFglrUlLm"
      }
    },
    {
      "cell_type": "markdown",
      "source": [
        "#### Entidade Pessoas"
      ],
      "metadata": {
        "id": "ETp9g056Uq0w"
      }
    },
    {
      "cell_type": "markdown",
      "source": [
        "O mercado contará com 10mil pessoas divididas em 3 perfis de consumidores: preza pelo preço, preza pela qualidade e preza pelo custo/beneficio. Cada pessoa terá suas características demográficas que poderão ser explorados de forma estratégica pelas empresas no ambiente simulado.\n",
        "\n",
        "Atributos:\n",
        "\n",
        "Nome\n",
        "- Idade: Influencia Renda Desejada, HardSkill, SoftSkill\n",
        "- Gênero: M, F, X\n",
        "- Score SoftSkill: Influencia Renda Desejada\n",
        "- Score HardSkill: Influencia Renda Desejada\n",
        "- Score Satisfacao Trabalho\n",
        "- Score Compra:\n",
        "- Score Poupar\n",
        "- Score Social\n",
        "- Renda Atual\n",
        "- Renda Desejada\n",
        "- Patrimônio\n"
      ],
      "metadata": {
        "id": "yLzQMtRfWbGR"
      }
    },
    {
      "cell_type": "markdown",
      "source": [
        "#### Entidade Empresas"
      ],
      "metadata": {
        "id": "svdozPqeXVYs"
      }
    },
    {
      "cell_type": "code",
      "source": [
        "pessoa_modelo = {\n",
        "    'nome': None,\n",
        "    'idade': None,\n",
        "    'genero': None,\n",
        "    'score_softskill': None,\n",
        "    'score_hardskill': None,\n",
        "    'score_satisfacao_trabalho': None,\n",
        "    'score_compra': None,\n",
        "    'score_poupar': None,\n",
        "    'score_social': None,\n",
        "    'renda_atual': None,\n",
        "    'renda_desejada': None,\n",
        "    'patrimonio': None\n",
        "}\n",
        "\n",
        "pessoas = list()\n",
        "\n",
        "print(pessoa_modelo)"
      ],
      "metadata": {
        "colab": {
          "base_uri": "https://localhost:8080/"
        },
        "id": "LiUZefXxiiQp",
        "outputId": "91018bda-ec67-4fae-9d50-831639569ded"
      },
      "execution_count": 34,
      "outputs": [
        {
          "output_type": "stream",
          "name": "stdout",
          "text": [
            "{'nome': None, 'idade': None, 'genero': None, 'score_softskill': None, 'score_hardskill': None, 'score_satisfacao_trabalho': None, 'score_compra': None, 'score_poupar': None, 'score_social': None, 'renda_atual': None, 'renda_desejada': None, 'patrimonio': None}\n"
          ]
        }
      ]
    },
    {
      "cell_type": "markdown",
      "source": [
        "###### Gera Pessoas"
      ],
      "metadata": {
        "id": "TRVDhpc5ij4k"
      }
    },
    {
      "cell_type": "code",
      "source": [
        "import random\n",
        "def numero_aleatorio_entre_zero_um():\n",
        "  return round(random.uniform(0, 1), 2)\n",
        "\n",
        "def genero_aleatorio():\n",
        "  opcoes = [\"F\", \"M\", \"X\"]\n",
        "  return random.choice(opcoes)\n",
        "\n",
        "def nome_aleatorio():\n",
        "  # Lista de sílabas que podem ser usadas para criar nomes\n",
        "  silabas = [\"ra\", \"de\", \"li\", \"ka\", \"jo\", \"mi\", \"tu\", \"lu\", \"pa\", \"le\", \"sa\", \"no\", \"ci\", \"la\", \"ro\", \"vi\"]\n",
        "  # Gerar um nome aleatório\n",
        "  nome_aleatorio = ''.join(random.sample(silabas, random.randint(2, 5)))\n",
        "  sobrenome_aleatorio = ''.join(random.sample(silabas, random.randint(2, 4)))\n",
        "  return nome_aleatorio.capitalize() + ' ' + sobrenome_aleatorio.capitalize()"
      ],
      "metadata": {
        "id": "zIWQEIWpXXE4"
      },
      "execution_count": 40,
      "outputs": []
    },
    {
      "cell_type": "markdown",
      "source": [
        "#### Entidade Governo"
      ],
      "metadata": {
        "id": "A75ArJJIXaue"
      }
    },
    {
      "cell_type": "code",
      "source": [
        "for i in range(5):\n",
        "  pessoa_modelo['nome'] = nome_aleatorio()\n",
        "  pessoa_modelo['idade'] = numero_aleatorio_entre_zero_um()\n",
        "  pessoa_modelo['genero'] = genero_aleatorio()\n",
        "  pessoa_modelo['score_softskill'] = numero_aleatorio_entre_zero_um()\n",
        "  pessoa_modelo['score_hardskill'] = numero_aleatorio_entre_zero_um()\n",
        "  pessoa_modelo['score_satisfacao_trabalho'] = numero_aleatorio_entre_zero_um()\n",
        "  pessoa_modelo['score_compra'] = numero_aleatorio_entre_zero_um()\n",
        "  pessoa_modelo['score_poupar'] = numero_aleatorio_entre_zero_um()\n",
        "  pessoa_modelo['score_social'] = numero_aleatorio_entre_zero_um()\n",
        "  pessoa_modelo['renda_atual'] = numero_aleatorio_entre_zero_um()\n",
        "  pessoa_modelo['renda_desejada'] = numero_aleatorio_entre_zero_um()\n",
        "  pessoa_modelo['patrimonio'] = numero_aleatorio_entre_zero_um()\n",
        "  pessoas.append(pessoa_modelo)\n",
        "  print(pessoa_modelo)"
      ],
      "metadata": {
        "id": "5J7KX9EdXcYM",
        "colab": {
          "base_uri": "https://localhost:8080/"
        },
        "outputId": "2d34e263-37e8-4ebf-bb14-d05948fcb620"
      },
      "execution_count": 42,
      "outputs": [
        {
          "output_type": "stream",
          "name": "stdout",
          "text": [
            "{'nome': 'Pacirakajo Lura', 'idade': 0.79, 'genero': 'M', 'score_softskill': 0.33, 'score_hardskill': 0.64, 'score_satisfacao_trabalho': 0.21, 'score_compra': 0.18, 'score_poupar': 0.36, 'score_social': 0.5, 'renda_atual': 0.18, 'renda_desejada': 0.46, 'patrimonio': 0.74}\n",
            "{'nome': 'Samicika Laci', 'idade': 0.33, 'genero': 'X', 'score_softskill': 0.32, 'score_hardskill': 0.16, 'score_satisfacao_trabalho': 0.51, 'score_compra': 0.2, 'score_poupar': 0.76, 'score_social': 0.95, 'renda_atual': 0.96, 'renda_desejada': 0.61, 'patrimonio': 0.94}\n",
            "{'nome': 'Lulepa Novi', 'idade': 0.37, 'genero': 'X', 'score_softskill': 0.81, 'score_hardskill': 0.22, 'score_satisfacao_trabalho': 0.43, 'score_compra': 0.06, 'score_poupar': 0.73, 'score_social': 0.29, 'renda_atual': 0.06, 'renda_desejada': 0.63, 'patrimonio': 0.42}\n",
            "{'nome': 'Jocilenotu Rajolale', 'idade': 0.7, 'genero': 'M', 'score_softskill': 0.26, 'score_hardskill': 0.83, 'score_satisfacao_trabalho': 0.43, 'score_compra': 0.22, 'score_poupar': 0.68, 'score_social': 0.25, 'renda_atual': 0.77, 'renda_desejada': 0.91, 'patrimonio': 0.66}\n",
            "{'nome': 'Milali Cilekano', 'idade': 0.71, 'genero': 'X', 'score_softskill': 0.61, 'score_hardskill': 0.49, 'score_satisfacao_trabalho': 0.29, 'score_compra': 0.6, 'score_poupar': 0.85, 'score_social': 0.88, 'renda_atual': 0.01, 'renda_desejada': 0.91, 'patrimonio': 0.52}\n"
          ]
        }
      ]
    },
    {
      "cell_type": "code",
      "source": [
        "pessoas"
      ],
      "metadata": {
        "colab": {
          "base_uri": "https://localhost:8080/"
        },
        "id": "439eedFGisu-",
        "outputId": "afdb1196-6946-423b-8544-87791736a13c"
      },
      "execution_count": 29,
      "outputs": [
        {
          "output_type": "execute_result",
          "data": {
            "text/plain": [
              "[{'idade': 0.68,\n",
              "  'genero': 0.28,\n",
              "  'score_softskill': 0.14,\n",
              "  'score_hardskill': 0.24,\n",
              "  'score_satisfacao_trabalho': 0.83,\n",
              "  'score_compra': 0.79,\n",
              "  'score_poupar': 0.79,\n",
              "  'score_social': 0.4,\n",
              "  'renda_atual': 0.63,\n",
              "  'renda_desejada': 0.59,\n",
              "  'patrimonio': 0.74},\n",
              " {'idade': 0.68,\n",
              "  'genero': 0.28,\n",
              "  'score_softskill': 0.14,\n",
              "  'score_hardskill': 0.24,\n",
              "  'score_satisfacao_trabalho': 0.83,\n",
              "  'score_compra': 0.79,\n",
              "  'score_poupar': 0.79,\n",
              "  'score_social': 0.4,\n",
              "  'renda_atual': 0.63,\n",
              "  'renda_desejada': 0.59,\n",
              "  'patrimonio': 0.74},\n",
              " {'idade': 0.68,\n",
              "  'genero': 0.28,\n",
              "  'score_softskill': 0.14,\n",
              "  'score_hardskill': 0.24,\n",
              "  'score_satisfacao_trabalho': 0.83,\n",
              "  'score_compra': 0.79,\n",
              "  'score_poupar': 0.79,\n",
              "  'score_social': 0.4,\n",
              "  'renda_atual': 0.63,\n",
              "  'renda_desejada': 0.59,\n",
              "  'patrimonio': 0.74},\n",
              " {'idade': 0.68,\n",
              "  'genero': 0.28,\n",
              "  'score_softskill': 0.14,\n",
              "  'score_hardskill': 0.24,\n",
              "  'score_satisfacao_trabalho': 0.83,\n",
              "  'score_compra': 0.79,\n",
              "  'score_poupar': 0.79,\n",
              "  'score_social': 0.4,\n",
              "  'renda_atual': 0.63,\n",
              "  'renda_desejada': 0.59,\n",
              "  'patrimonio': 0.74},\n",
              " {'idade': 0.68,\n",
              "  'genero': 0.28,\n",
              "  'score_softskill': 0.14,\n",
              "  'score_hardskill': 0.24,\n",
              "  'score_satisfacao_trabalho': 0.83,\n",
              "  'score_compra': 0.79,\n",
              "  'score_poupar': 0.79,\n",
              "  'score_social': 0.4,\n",
              "  'renda_atual': 0.63,\n",
              "  'renda_desejada': 0.59,\n",
              "  'patrimonio': 0.74},\n",
              " {'idade': 0.68,\n",
              "  'genero': 0.28,\n",
              "  'score_softskill': 0.14,\n",
              "  'score_hardskill': 0.24,\n",
              "  'score_satisfacao_trabalho': 0.83,\n",
              "  'score_compra': 0.79,\n",
              "  'score_poupar': 0.79,\n",
              "  'score_social': 0.4,\n",
              "  'renda_atual': 0.63,\n",
              "  'renda_desejada': 0.59,\n",
              "  'patrimonio': 0.74},\n",
              " {'idade': 0.68,\n",
              "  'genero': 0.28,\n",
              "  'score_softskill': 0.14,\n",
              "  'score_hardskill': 0.24,\n",
              "  'score_satisfacao_trabalho': 0.83,\n",
              "  'score_compra': 0.79,\n",
              "  'score_poupar': 0.79,\n",
              "  'score_social': 0.4,\n",
              "  'renda_atual': 0.63,\n",
              "  'renda_desejada': 0.59,\n",
              "  'patrimonio': 0.74},\n",
              " {'idade': 0.68,\n",
              "  'genero': 0.28,\n",
              "  'score_softskill': 0.14,\n",
              "  'score_hardskill': 0.24,\n",
              "  'score_satisfacao_trabalho': 0.83,\n",
              "  'score_compra': 0.79,\n",
              "  'score_poupar': 0.79,\n",
              "  'score_social': 0.4,\n",
              "  'renda_atual': 0.63,\n",
              "  'renda_desejada': 0.59,\n",
              "  'patrimonio': 0.74},\n",
              " {'idade': 0.68,\n",
              "  'genero': 0.28,\n",
              "  'score_softskill': 0.14,\n",
              "  'score_hardskill': 0.24,\n",
              "  'score_satisfacao_trabalho': 0.83,\n",
              "  'score_compra': 0.79,\n",
              "  'score_poupar': 0.79,\n",
              "  'score_social': 0.4,\n",
              "  'renda_atual': 0.63,\n",
              "  'renda_desejada': 0.59,\n",
              "  'patrimonio': 0.74},\n",
              " {'idade': 0.68,\n",
              "  'genero': 0.28,\n",
              "  'score_softskill': 0.14,\n",
              "  'score_hardskill': 0.24,\n",
              "  'score_satisfacao_trabalho': 0.83,\n",
              "  'score_compra': 0.79,\n",
              "  'score_poupar': 0.79,\n",
              "  'score_social': 0.4,\n",
              "  'renda_atual': 0.63,\n",
              "  'renda_desejada': 0.59,\n",
              "  'patrimonio': 0.74}]"
            ]
          },
          "metadata": {},
          "execution_count": 29
        }
      ]
    },
    {
      "cell_type": "markdown",
      "source": [
        "#### Entidade Mídia"
      ],
      "metadata": {
        "id": "3vfFwUzLXdAw"
      }
    },
    {
      "cell_type": "code",
      "source": [],
      "metadata": {
        "id": "KWP7hypYXf_D"
      },
      "execution_count": null,
      "outputs": []
    }
  ]
}