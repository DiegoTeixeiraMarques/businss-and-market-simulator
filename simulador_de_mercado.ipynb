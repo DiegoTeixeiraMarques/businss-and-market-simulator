{
  "nbformat": 4,
  "nbformat_minor": 0,
  "metadata": {
    "colab": {
      "provenance": [],
      "toc_visible": true,
      "include_colab_link": true
    },
    "kernelspec": {
      "name": "python3",
      "display_name": "Python 3"
    },
    "language_info": {
      "name": "python"
    }
  },
  "cells": [
    {
      "cell_type": "markdown",
      "metadata": {
        "id": "view-in-github",
        "colab_type": "text"
      },
      "source": [
        "<a href=\"https://colab.research.google.com/github/DiegoTeixeiraMarques/businss-and-market-simulator/blob/main/simulador_de_mercado.ipynb\" target=\"_parent\"><img src=\"https://colab.research.google.com/assets/colab-badge.svg\" alt=\"Open In Colab\"/></a>"
      ]
    },
    {
      "cell_type": "markdown",
      "source": [
        "## Simuldor de Mercado"
      ],
      "metadata": {
        "id": "G1otFglrUlLm"
      }
    },
    {
      "cell_type": "markdown",
      "source": [
        "#### Entidade Pessoas"
      ],
      "metadata": {
        "id": "ETp9g056Uq0w"
      }
    },
    {
      "cell_type": "markdown",
      "source": [
        "O mercado contará com 10mil pessoas divididas em 3 perfis de consumidores: preza pelo preço, preza pela qualidade e preza pelo custo/beneficio. Cada pessoa terá suas características demográficas que poderão ser explorados de forma estratégica pelas empresas no ambiente simulado.\n",
        "\n",
        "Atributos:\n",
        "\n",
        "Nome\n",
        "- Idade: Influencia Renda Desejada, HardSkill, SoftSkill\n",
        "- Gênero: M, F, X\n",
        "- Score SoftSkill: Influencia Renda Desejada\n",
        "- Score HardSkill: Influencia Renda Desejada\n",
        "- Score Satisfacao Trabalho\n",
        "- Score Compra:\n",
        "- Score Poupar\n",
        "- Score Social\n",
        "- Renda Atual\n",
        "- Renda Desejada\n",
        "- Patrimônio\n"
      ],
      "metadata": {
        "id": "yLzQMtRfWbGR"
      }
    },
    {
      "cell_type": "markdown",
      "source": [
        "#### Entidade Empresas"
      ],
      "metadata": {
        "id": "svdozPqeXVYs"
      }
    },
    {
      "cell_type": "code",
      "source": [
        "pessoa_modelo = {\n",
        "    'nome': None,\n",
        "    'idade': None,\n",
        "    'genero': None,\n",
        "    'score_softskill': None,\n",
        "    'score_hardskill': None,\n",
        "    'score_satisfacao_trabalho': None,\n",
        "    'score_compra': None,\n",
        "    'score_poupar': None,\n",
        "    'score_social': None,\n",
        "    'renda_atual': None,\n",
        "    'renda_desejada': None,\n",
        "    'patrimonio': None\n",
        "}\n",
        "\n",
        "pessoas = list()\n",
        "\n",
        "print(pessoa_modelo)"
      ],
      "metadata": {
        "colab": {
          "base_uri": "https://localhost:8080/"
        },
        "id": "LiUZefXxiiQp",
        "outputId": "0bbbefa7-8813-44dd-fc5e-c59b3ce0f3e2"
      },
      "execution_count": 49,
      "outputs": [
        {
          "output_type": "stream",
          "name": "stdout",
          "text": [
            "{'nome': None, 'idade': None, 'genero': None, 'score_softskill': None, 'score_hardskill': None, 'score_satisfacao_trabalho': None, 'score_compra': None, 'score_poupar': None, 'score_social': None, 'renda_atual': None, 'renda_desejada': None, 'patrimonio': None}\n"
          ]
        }
      ]
    },
    {
      "cell_type": "markdown",
      "source": [
        "###### Gera Pessoas"
      ],
      "metadata": {
        "id": "TRVDhpc5ij4k"
      }
    },
    {
      "cell_type": "code",
      "source": [
        "import random\n",
        "def numero_aleatorio_entre_0_1():\n",
        "  return round(random.uniform(0, 1), 2)\n",
        "\n",
        "def numero_aleatorio_entre_18_50():\n",
        "  return int(random.uniform(18, 50))\n",
        "\n",
        "def genero_aleatorio():\n",
        "  opcoes = [\"F\", \"M\", \"X\"]\n",
        "  return random.choice(opcoes)\n",
        "\n",
        "def nome_aleatorio():\n",
        "  # Lista de sílabas que podem ser usadas para criar nomes\n",
        "  silabas = [\"ra\", \"de\", \"li\", \"ka\", \"jo\", \"mi\", \"tu\", \"lu\", \"pa\", \"le\", \"sa\", \"no\", \"ci\", \"la\", \"ro\", \"vi\"]\n",
        "  # Gerar um nome aleatório\n",
        "  nome_aleatorio = ''.join(random.sample(silabas, random.randint(2, 5)))\n",
        "  sobrenome_aleatorio = ''.join(random.sample(silabas, random.randint(2, 4)))\n",
        "  return nome_aleatorio.capitalize() + ' ' + sobrenome_aleatorio.capitalize()"
      ],
      "metadata": {
        "id": "zIWQEIWpXXE4"
      },
      "execution_count": 50,
      "outputs": []
    },
    {
      "cell_type": "code",
      "source": [
        "for i in range(10000):\n",
        "  pessoa_modelo['nome'] = nome_aleatorio()\n",
        "  pessoa_modelo['idade'] = numero_aleatorio_entre_18_50()\n",
        "  pessoa_modelo['genero'] = genero_aleatorio()\n",
        "  pessoa_modelo['score_softskill'] = numero_aleatorio_entre_0_1()\n",
        "  pessoa_modelo['score_hardskill'] = numero_aleatorio_entre_0_1()\n",
        "  pessoa_modelo['score_satisfacao_trabalho'] = numero_aleatorio_entre_0_1()\n",
        "  pessoa_modelo['score_compra'] = numero_aleatorio_entre_0_1()\n",
        "  pessoa_modelo['score_poupar'] = numero_aleatorio_entre_0_1()\n",
        "  pessoa_modelo['score_social'] = numero_aleatorio_entre_0_1()\n",
        "  pessoa_modelo['renda_atual'] = numero_aleatorio_entre_0_1()\n",
        "  pessoa_modelo['renda_desejada'] = numero_aleatorio_entre_0_1()\n",
        "  pessoa_modelo['patrimonio'] = numero_aleatorio_entre_0_1()\n",
        "  pessoas.append(pessoa_modelo)"
      ],
      "metadata": {
        "id": "yS2iWBrRFkDU"
      },
      "execution_count": 51,
      "outputs": []
    },
    {
      "cell_type": "code",
      "source": [
        "len(pessoas)"
      ],
      "metadata": {
        "colab": {
          "base_uri": "https://localhost:8080/"
        },
        "id": "lTkJshRYF1QY",
        "outputId": "7664d971-5066-44d4-cb3f-f585df6cf6cf"
      },
      "execution_count": 53,
      "outputs": [
        {
          "output_type": "execute_result",
          "data": {
            "text/plain": [
              "10000"
            ]
          },
          "metadata": {},
          "execution_count": 53
        }
      ]
    },
    {
      "cell_type": "markdown",
      "source": [
        "#### Entidade Governo"
      ],
      "metadata": {
        "id": "A75ArJJIXaue"
      }
    },
    {
      "cell_type": "code",
      "source": [],
      "metadata": {
        "id": "V4sFgI9LFmgA"
      },
      "execution_count": null,
      "outputs": []
    },
    {
      "cell_type": "markdown",
      "source": [
        "#### Entidade Mídia"
      ],
      "metadata": {
        "id": "3vfFwUzLXdAw"
      }
    }
  ]
}